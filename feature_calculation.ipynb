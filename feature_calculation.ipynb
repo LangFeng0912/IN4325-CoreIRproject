{
 "cells": [
  {
   "cell_type": "code",
   "execution_count": null,
   "metadata": {
    "colab": {
     "base_uri": "https://localhost:8080/"
    },
    "id": "eypl7XPrkifV",
    "outputId": "ee5dab82-a43a-479d-cbb0-8563499e974b"
   },
   "outputs": [],
   "source": [
    "!pip install python-terrier"
   ]
  },
  {
   "cell_type": "code",
   "execution_count": null,
   "metadata": {
    "colab": {
     "base_uri": "https://localhost:8080/"
    },
    "id": "hPK5k4g2kkKo",
    "outputId": "107b48bb-9147-466a-e7e3-9ddd6f5e683b"
   },
   "outputs": [],
   "source": [
    "# init\n",
    "import numpy as np\n",
    "import pandas as pd\n",
    "import pyterrier as pt\n",
    "if not pt.started():\n",
    "  pt.init()"
   ]
  },
  {
   "cell_type": "code",
   "execution_count": null,
   "metadata": {
    "colab": {
     "base_uri": "https://localhost:8080/",
     "height": 423
    },
    "id": "1MCH20mGB8EG",
    "outputId": "4869dcdf-9ae8-4389-aab2-35f49bf21061"
   },
   "outputs": [],
   "source": [
    "indexref=pt.get_dataset('msmarco_passage').get_index('terrier_unstemmed')\n",
    "# read index and topics of training dataset\n",
    "topics=pt.get_dataset('msmarco_passage').get_topics('train')\n",
    "qrels=pt.get_dataset('msmarco_passage').get_qrels('train')\n",
    "topics\n"
   ]
  },
  {
   "cell_type": "code",
   "execution_count": null,
   "metadata": {
    "id": "QEjmsD3ya8Pc"
   },
   "outputs": [],
   "source": [
    "#feature values calculation\n",
    "BM25 = pt.BatchRetrieve(indexref, controls = {\"wmodel\": \"BM25\"})\n",
    "\n",
    "#re-rank features\n",
    "TF_IDF =  pt.BatchRetrieve(indexref, controls = {\"wmodel\": \"TF_IDF\"})\n",
    "PL2 =  pt.BatchRetrieve(indexref, controls = {\"wmodel\": \"PL2\"})\n",
    "DPH = pt.BatchRetrieve(indexref, controls = {\"wmodel\": \"DPH\"})\n",
    "Tf = pt.BatchRetrieve(indexref, controls = {\"wmodel\": \"Tf\"})"
   ]
  },
  {
   "cell_type": "code",
   "execution_count": null,
   "metadata": {
    "colab": {
     "base_uri": "https://localhost:8080/",
     "height": 112
    },
    "id": "iXxeKfPXhuPA",
    "outputId": "c0434779-c26e-44d4-ef8a-d552df563014"
   },
   "outputs": [],
   "source": [
    "fbr = pt.FeaturesBatchRetrieve(indexref, controls = {\"wmodel\": \"BM25\"}, features=[\"SAMPLE\", \"WMODEL:TF_IDF\", \"WMODEL:PL2\", \"WMODEL:Tf\"]) "
   ]
  }
 ],
 "metadata": {
  "colab": {
   "collapsed_sections": [
    "5thmTselkuBv"
   ],
   "name": "100queries",
   "provenance": []
  },
  "kernelspec": {
   "display_name": "Python 3",
   "language": "python",
   "name": "python3"
  },
  "language_info": {
   "codemirror_mode": {
    "name": "ipython",
    "version": 3
   },
   "file_extension": ".py",
   "mimetype": "text/x-python",
   "name": "python",
   "nbconvert_exporter": "python",
   "pygments_lexer": "ipython3",
   "version": "3.8.8"
  }
 },
 "nbformat": 4,
 "nbformat_minor": 1
}
