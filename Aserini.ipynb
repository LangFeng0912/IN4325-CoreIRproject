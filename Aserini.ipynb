{
 "cells": [
  {
   "cell_type": "code",
   "execution_count": null,
   "id": "91ac7843",
   "metadata": {},
   "outputs": [],
   "source": [
    "mkdir collections/msmarco-passage\n",
    "\n",
    "wget https://msmarco.blob.core.windows.net/msmarcoranking/collectionandqueries.tar.gz -P collections/msmarco-passage\n",
    "\n",
    "tar xvfz collections/msmarco-passage/collectionandqueries.tar.gz -C collections/msmarco-passage"
   ]
  },
  {
   "cell_type": "code",
   "execution_count": 1,
   "id": "a9184426",
   "metadata": {},
   "outputs": [],
   "source": []
  },
  {
   "cell_type": "code",
   "execution_count": null,
   "id": "1c6daa24",
   "metadata": {},
   "outputs": [],
   "source": [
    "#convert\n",
    "python tools/scripts/msmarco/convert_collection_to_jsonl.py \\\n",
    " --collection-path collections/msmarco-passage/collection.tsv \\\n",
    " --output-folder collections/msmarco-passage/collection_jsonl"
   ]
  },
  {
   "cell_type": "code",
   "execution_count": null,
   "id": "9784960a",
   "metadata": {},
   "outputs": [],
   "source": [
    "#indexing\n",
    "sh target/appassembler/bin/IndexCollection -threads 9 -collection JsonCollection \\\n",
    " -generator DefaultLuceneDocumentGenerator -input collections/msmarco-passage/collection_jsonl \\\n",
    " -index indexes/msmarco-passage/lucene-index-msmarco -storePositions -storeDocvectors -storeRaw "
   ]
  },
  {
   "cell_type": "code",
   "execution_count": null,
   "id": "48702987",
   "metadata": {},
   "outputs": [],
   "source": [
    "#retrieval\n",
    "python tools/scripts/msmarco/filter_queries.py \\\n",
    " --qrels collections/msmarco-passage/qrels.dev.small.tsv \\\n",
    " --queries collections/msmarco-passage/queries.dev.tsv \\\n",
    " --output collections/msmarco-passage/queries.dev.small.tsv"
   ]
  },
  {
   "cell_type": "code",
   "execution_count": null,
   "id": "898d3fee",
   "metadata": {},
   "outputs": [],
   "source": [
    "sh target/appassembler/bin/SearchCollection -hits 1000 -parallelism 4 \\\n",
    " -index indexes/msmarco-passage/lucene-index-msmarco \\\n",
    " -topicreader TsvInt -topics collections/msmarco-passage/queries.dev.small.tsv \\\n",
    " -output runs/run.msmarco-passage.dev.small.tsv -format msmarco \\\n",
    " -bm25 -bm25.k1 0.82 -bm25.b 0.68"
   ]
  },
  {
   "cell_type": "code",
   "execution_count": null,
   "id": "4579d6e6",
   "metadata": {},
   "outputs": [],
   "source": [
    "python tools/scripts/msmarco/msmarco_passage_eval.py \\\n",
    " collections/msmarco-passage/qrels.dev.small.tsv runs/run.msmarco-passage.dev.small.tsv"
   ]
  },
  {
   "cell_type": "code",
   "execution_count": null,
   "id": "8b73771a",
   "metadata": {},
   "outputs": [],
   "source": [
    "#TREC evaluation\n",
    "python tools/scripts/msmarco/convert_msmarco_to_trec_run.py \\\n",
    " --input runs/run.msmarco-passage.dev.small.tsv \\\n",
    " --output runs/run.msmarco-passage.dev.small.trec\n",
    "\n",
    "python tools/scripts/msmarco/convert_msmarco_to_trec_qrels.py \\\n",
    " --input collections/msmarco-passage/qrels.dev.small.tsv \\\n",
    " --output collections/msmarco-passage/qrels.dev.small.trec"
   ]
  },
  {
   "cell_type": "code",
   "execution_count": null,
   "id": "f2c82b13",
   "metadata": {},
   "outputs": [],
   "source": [
    "tools/eval/trec_eval.9.0.4/trec_eval -c -mrecall.1000 -mmap \\\n",
    " collections/msmarco-passage/qrels.dev.small.trec runs/run.msmarco-passage.dev.small.trec"
   ]
  }
 ],
 "metadata": {
  "kernelspec": {
   "display_name": "Python 3",
   "language": "python",
   "name": "python3"
  },
  "language_info": {
   "codemirror_mode": {
    "name": "ipython",
    "version": 3
   },
   "file_extension": ".py",
   "mimetype": "text/x-python",
   "name": "python",
   "nbconvert_exporter": "python",
   "pygments_lexer": "ipython3",
   "version": "3.8.8"
  }
 },
 "nbformat": 4,
 "nbformat_minor": 5
}
